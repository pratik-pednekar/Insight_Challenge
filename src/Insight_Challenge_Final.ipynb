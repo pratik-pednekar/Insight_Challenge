{
 "cells": [
  {
   "cell_type": "code",
   "execution_count": 37,
   "metadata": {},
   "outputs": [],
   "source": [
    "import pandas as pd\n",
    "import numpy as np\n",
    "import datetime as dt\n",
    "import os\n",
    "os.listdir(r\"C:\\Users\\Pratik Pednekar\\Desktop\\Insight challenge\\Data\")\n",
    "cwd = os.getcwd()\n",
    "cwd\n",
    "inputfile = r\"C:\\Users\\Pratik Pednekar\\Desktop\\Insight challenge\\Data\"\n",
    "#for file in os.listdir(inputfile):\n",
    "    #df1=pd.read_csv(r\"C:\\Users\\Pratik Pednekar\\Desktop\\Insight challenge\\Data\\data_trial.csv\",encoding=\"ISO-8859-1\",usecols=['Date received','Product','Company'])\n",
    "url = 'https://github.com/pratik-pednekar/Insight_Challenge/tree/master/input/complaints.csv'\n",
    "df = pd.read_csv(url, error_bad_lines=False,encoding=\"ISO-8859-1\",usecols=['Date received','Product','Company'])\n",
    "df2=df1.copy()\n",
    "df2['Year']=df2['Date received'].str.split(\"-\", n = 1, expand = True)[0]\n",
    "df2=df2.drop('Date received',axis=1) #dropping date received\n",
    "df2['Product'] = df2['Product'].str.lower()\n",
    "df2['Company'] = df2['Company'].str.lower()\n",
    "i=0\n",
    "for group, frame in df2.groupby(['Year','Product']):\n",
    "    (unique, counts) = np.unique(frame['Company'], return_counts=True)\n",
    "    no_complains=sum(counts)\n",
    "    no_companies=len(unique)\n",
    "    #print(group)\n",
    "    #print(\"Total no. of complains\",no_complains)\n",
    "    #print(\"No of companies:\",no_companies)\n",
    "    #print(\"highest % of complaints dir towards a single company:\",max(counts)/sum(counts)*100)\n",
    "    #print(\"----------------------\")\n",
    "    if i==0:\n",
    "        df3=pd.DataFrame({'Year and Product':[group[0]+\" \" + group[1]],'No. of complains':no_complains,'No. of companies':no_companies,'Highest % of complaints for single company':max(counts)/sum(counts)*100})\n",
    "        #print(df3)\n",
    "    else:\n",
    "        df3=df3.append({'Year and Product':group[0]+\" \" + group[1],'No. of complains':no_complains,'No. of companies':no_companies,'Highest % of complaints for single company':max(counts)/sum(counts)*100},ignore_index=True)\n",
    "        #print(df3)\n",
    "    i+=1\n",
    "df3.to_csv('report.csv', index=True,mode='a')\n",
    "    #print(df3) #Not saving correctly; only saves last entry"
   ]
  },
  {
   "cell_type": "code",
   "execution_count": 38,
   "metadata": {},
   "outputs": [
    {
     "data": {
      "text/html": [
       "<div>\n",
       "<style scoped>\n",
       "    .dataframe tbody tr th:only-of-type {\n",
       "        vertical-align: middle;\n",
       "    }\n",
       "\n",
       "    .dataframe tbody tr th {\n",
       "        vertical-align: top;\n",
       "    }\n",
       "\n",
       "    .dataframe thead th {\n",
       "        text-align: right;\n",
       "    }\n",
       "</style>\n",
       "<table border=\"1\" class=\"dataframe\">\n",
       "  <thead>\n",
       "    <tr style=\"text-align: right;\">\n",
       "      <th></th>\n",
       "      <th>Year and Product</th>\n",
       "      <th>No. of complains</th>\n",
       "      <th>No. of companies</th>\n",
       "      <th>Highest % of complaints for single company</th>\n",
       "    </tr>\n",
       "  </thead>\n",
       "  <tbody>\n",
       "    <tr>\n",
       "      <th>0</th>\n",
       "      <td>2019 credit reporting, credit repair services,...</td>\n",
       "      <td>3</td>\n",
       "      <td>2</td>\n",
       "      <td>66.666667</td>\n",
       "    </tr>\n",
       "    <tr>\n",
       "      <th>1</th>\n",
       "      <td>2019 debt collection</td>\n",
       "      <td>1</td>\n",
       "      <td>1</td>\n",
       "      <td>100.000000</td>\n",
       "    </tr>\n",
       "    <tr>\n",
       "      <th>2</th>\n",
       "      <td>2020 credit reporting, credit repair services,...</td>\n",
       "      <td>1</td>\n",
       "      <td>1</td>\n",
       "      <td>100.000000</td>\n",
       "    </tr>\n",
       "  </tbody>\n",
       "</table>\n",
       "</div>"
      ],
      "text/plain": [
       "                                    Year and Product  No. of complains  \\\n",
       "0  2019 credit reporting, credit repair services,...                 3   \n",
       "1                               2019 debt collection                 1   \n",
       "2  2020 credit reporting, credit repair services,...                 1   \n",
       "\n",
       "   No. of companies  Highest % of complaints for single company  \n",
       "0                 2                                   66.666667  \n",
       "1                 1                                  100.000000  \n",
       "2                 1                                  100.000000  "
      ]
     },
     "execution_count": 38,
     "metadata": {},
     "output_type": "execute_result"
    }
   ],
   "source": [
    "df3"
   ]
  },
  {
   "cell_type": "code",
   "execution_count": 39,
   "metadata": {},
   "outputs": [
    {
     "ename": "NameError",
     "evalue": "name 'python' is not defined",
     "output_type": "error",
     "traceback": [
      "\u001b[1;31m---------------------------------------------------------------------------\u001b[0m",
      "\u001b[1;31mNameError\u001b[0m                                 Traceback (most recent call last)",
      "\u001b[1;32m<ipython-input-39-32886514c262>\u001b[0m in \u001b[0;36m<module>\u001b[1;34m\u001b[0m\n\u001b[1;32m----> 1\u001b[1;33m \u001b[0mpython\u001b[0m\u001b[1;33m\u001b[0m\u001b[1;33m\u001b[0m\u001b[0m\n\u001b[0m",
      "\u001b[1;31mNameError\u001b[0m: name 'python' is not defined"
     ]
    }
   ],
   "source": []
  },
  {
   "cell_type": "code",
   "execution_count": null,
   "metadata": {},
   "outputs": [],
   "source": []
  }
 ],
 "metadata": {
  "kernelspec": {
   "display_name": "Python 3",
   "language": "python",
   "name": "python3"
  },
  "language_info": {
   "codemirror_mode": {
    "name": "ipython",
    "version": 3
   },
   "file_extension": ".py",
   "mimetype": "text/x-python",
   "name": "python",
   "nbconvert_exporter": "python",
   "pygments_lexer": "ipython3",
   "version": "3.7.3"
  }
 },
 "nbformat": 4,
 "nbformat_minor": 2
}
